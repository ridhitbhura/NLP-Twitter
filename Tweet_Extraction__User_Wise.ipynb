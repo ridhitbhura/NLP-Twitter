{
 "cells": [
  {
   "cell_type": "markdown",
   "id": "22ce6c4a",
   "metadata": {},
   "source": [
    "# Tweet Extraction"
   ]
  },
  {
   "cell_type": "markdown",
   "id": "2ce34237",
   "metadata": {},
   "source": [
    "#### By Ridhit Bhura"
   ]
  },
  {
   "cell_type": "code",
   "execution_count": 11,
   "id": "7f570155",
   "metadata": {},
   "outputs": [],
   "source": [
    "import pandas as pd\n",
    "import tweepy\n",
    "import time\n",
    "import warnings\n",
    "warnings.filterwarnings('ignore')"
   ]
  },
  {
   "cell_type": "markdown",
   "id": "309329c3",
   "metadata": {},
   "source": [
    "For a guide to obtain your relevant keys and secret codes, follow instructions on https://support.yapsody.com/hc/en-us/articles/360003291573-How-do-I-get-a-Twitter-Consumer-Key-and-Consumer-Secret-key-"
   ]
  },
  {
   "cell_type": "code",
   "execution_count": 12,
   "id": "e5bc1333",
   "metadata": {},
   "outputs": [],
   "source": [
    "consumer_key=\"ADD_YOUR_OWN\"\n",
    "consumer_secret=\"ADD_YOUR_OWN\"\n",
    "access_token=\"ADD_YOUR_OWN\"\n",
    "access_token_secret=\"ADD_YOUR_OWN\""
   ]
  },
  {
   "cell_type": "code",
   "execution_count": 13,
   "id": "8a1bef40",
   "metadata": {},
   "outputs": [],
   "source": [
    "#Twitter API\n",
    "auth=tweepy.OAuthHandler(consumer_key, consumer_secret)\n",
    "auth.set_access_token=(access_token, access_token_secret)\n",
    "api= tweepy.API(auth, wait_on_rate_limit= True)"
   ]
  },
  {
   "cell_type": "code",
   "execution_count": 14,
   "id": "2daf0e35",
   "metadata": {},
   "outputs": [],
   "source": [
    "pd.set_option('display.max_colwidth', -1)"
   ]
  },
  {
   "cell_type": "code",
   "execution_count": 15,
   "id": "2159f3eb",
   "metadata": {},
   "outputs": [],
   "source": [
    "def get_tweets(username, count):\n",
    "    try:\n",
    "        #creating query methods using parameters\n",
    "        tweets= tweepy.Cursor(api.user_timeline,id= username, lang=\"en\", tweet_mode=\"extended\").items(count)\n",
    "        tweet_list= [[tweet.created_at, tweet.id, tweet.full_text] for tweet in tweets]\n",
    "        #creating dataframe from tweets list\n",
    "        tweets_df=pd.DataFrame(tweet_list, columns=[\"Date\",\"Tweet_id\",\"Tweet_Text\"])\n",
    "    \n",
    "    except BaseException as e:\n",
    "        print('failed on_status', str(e))\n",
    "        time.sleep(3)\n",
    "    return tweets_df\n"
   ]
  },
  {
   "cell_type": "code",
   "execution_count": 16,
   "id": "b20faeb8",
   "metadata": {},
   "outputs": [
    {
     "data": {
      "text/html": [
       "<div>\n",
       "<style scoped>\n",
       "    .dataframe tbody tr th:only-of-type {\n",
       "        vertical-align: middle;\n",
       "    }\n",
       "\n",
       "    .dataframe tbody tr th {\n",
       "        vertical-align: top;\n",
       "    }\n",
       "\n",
       "    .dataframe thead th {\n",
       "        text-align: right;\n",
       "    }\n",
       "</style>\n",
       "<table border=\"1\" class=\"dataframe\">\n",
       "  <thead>\n",
       "    <tr style=\"text-align: right;\">\n",
       "      <th></th>\n",
       "      <th>Date</th>\n",
       "      <th>Tweet_id</th>\n",
       "      <th>Tweet_Text</th>\n",
       "    </tr>\n",
       "  </thead>\n",
       "  <tbody>\n",
       "    <tr>\n",
       "      <th>2175</th>\n",
       "      <td>2020-11-11 16:38:27</td>\n",
       "      <td>1326564960684679171</td>\n",
       "      <td>Had an excellent conversation with DG of @WHO @DrTedros. We discussed the vast potential of traditional medicine for promoting health and wellness in the world.  I also assured India's support to WHO and the world community in the fight against COVID-19. \\nhttps://t.co/IjvFRMOzUv</td>\n",
       "    </tr>\n",
       "    <tr>\n",
       "      <th>2176</th>\n",
       "      <td>2020-11-11 16:33:38</td>\n",
       "      <td>1326563749071904769</td>\n",
       "      <td>जिनके दिल में राष्ट्रहित सर्वोपरि है, जिनमें लोकतंत्र के लिए प्रतिबद्धता है, ऐसे युवाओं से मेरा आह्वान है कि वो आगे आएं और बीजेपी के माध्यम से देश की सेवा में जुट जाएं।\\n \\nअपने सपनों को साकार करने के लिए, अपने संकल्पों को सिद्ध करने के लिए कमल को हाथ में लेकर चल पड़ें। https://t.co/AnJAEEh6C5</td>\n",
       "    </tr>\n",
       "    <tr>\n",
       "      <th>2177</th>\n",
       "      <td>2020-11-11 16:33:02</td>\n",
       "      <td>1326563595929473026</td>\n",
       "      <td>21वीं सदी का भारत एक नए मिजाज का भारत है। न हमें आपदाएं रोक सकती हैं और न ही बड़ी-बड़ी चुनौतियां। मैं एक नए भारत के उदय को देख रहा हूं।\\n \\nजब दुनिया के अनेक देश थम गए थे, हमारे देश ने नई नीतियां भी बनाईं, नए निर्णय भी लिए। https://t.co/Zj7fL0oXcb</td>\n",
       "    </tr>\n",
       "    <tr>\n",
       "      <th>2178</th>\n",
       "      <td>2020-11-11 16:32:40</td>\n",
       "      <td>1326563502513942528</td>\n",
       "      <td>अगर आज आप मुझे बिहार के चुनाव नतीजों के बारे में पूछेंगे तो मेरा जवाब भी जनता के जनादेश की तरह साफ है-\\n \\nबिहार में ‘सबका साथ, सबका विकास, सबका विश्वास’ के मंत्र की जीत हुई है। https://t.co/teiASNeVJZ</td>\n",
       "    </tr>\n",
       "    <tr>\n",
       "      <th>2179</th>\n",
       "      <td>2020-11-11 16:32:16</td>\n",
       "      <td>1326563404715323394</td>\n",
       "      <td>भाजपा सरकारों की पहचान ही है - गुड गवर्नेंस।\\n \\nगुड गवर्नेंस से कैसे स्थितियां बदल जाती हैं, बड़ी से बड़ी आपदाओं का सामना करने में इससे मदद मिलती है, ये हमने कोरोना के इस काल में भी देखा है। https://t.co/pNW0vmH42e</td>\n",
       "    </tr>\n",
       "  </tbody>\n",
       "</table>\n",
       "</div>"
      ],
      "text/plain": [
       "                    Date             Tweet_id  \\\n",
       "2175 2020-11-11 16:38:27  1326564960684679171   \n",
       "2176 2020-11-11 16:33:38  1326563749071904769   \n",
       "2177 2020-11-11 16:33:02  1326563595929473026   \n",
       "2178 2020-11-11 16:32:40  1326563502513942528   \n",
       "2179 2020-11-11 16:32:16  1326563404715323394   \n",
       "\n",
       "                                                                                                                                                                                                                                                                                                  Tweet_Text  \n",
       "2175  Had an excellent conversation with DG of @WHO @DrTedros. We discussed the vast potential of traditional medicine for promoting health and wellness in the world.  I also assured India's support to WHO and the world community in the fight against COVID-19. \\nhttps://t.co/IjvFRMOzUv                \n",
       "2176  जिनके दिल में राष्ट्रहित सर्वोपरि है, जिनमें लोकतंत्र के लिए प्रतिबद्धता है, ऐसे युवाओं से मेरा आह्वान है कि वो आगे आएं और बीजेपी के माध्यम से देश की सेवा में जुट जाएं।\\n \\nअपने सपनों को साकार करने के लिए, अपने संकल्पों को सिद्ध करने के लिए कमल को हाथ में लेकर चल पड़ें। https://t.co/AnJAEEh6C5  \n",
       "2177  21वीं सदी का भारत एक नए मिजाज का भारत है। न हमें आपदाएं रोक सकती हैं और न ही बड़ी-बड़ी चुनौतियां। मैं एक नए भारत के उदय को देख रहा हूं।\\n \\nजब दुनिया के अनेक देश थम गए थे, हमारे देश ने नई नीतियां भी बनाईं, नए निर्णय भी लिए। https://t.co/Zj7fL0oXcb                                                 \n",
       "2178  अगर आज आप मुझे बिहार के चुनाव नतीजों के बारे में पूछेंगे तो मेरा जवाब भी जनता के जनादेश की तरह साफ है-\\n \\nबिहार में ‘सबका साथ, सबका विकास, सबका विश्वास’ के मंत्र की जीत हुई है। https://t.co/teiASNeVJZ                                                                                               \n",
       "2179  भाजपा सरकारों की पहचान ही है - गुड गवर्नेंस।\\n \\nगुड गवर्नेंस से कैसे स्थितियां बदल जाती हैं, बड़ी से बड़ी आपदाओं का सामना करने में इससे मदद मिलती है, ये हमने कोरोना के इस काल में भी देखा है। https://t.co/pNW0vmH42e                                                                                 "
      ]
     },
     "execution_count": 16,
     "metadata": {},
     "output_type": "execute_result"
    }
   ],
   "source": [
    "df=get_tweets(\"narendramodi\",30000)\n",
    "df.shape\n",
    "df.tail()"
   ]
  },
  {
   "cell_type": "markdown",
   "id": "4e6ad35d",
   "metadata": {},
   "source": [
    "## Export to CSV"
   ]
  },
  {
   "cell_type": "code",
   "execution_count": null,
   "id": "d2c205e3",
   "metadata": {},
   "outputs": [],
   "source": [
    "df.to_csv('CUSTOM_NAME.csv', index=False)\n",
    "df.to_csv('FILE_PATH_TO_WHEREVER_YOU_WANT.csv')"
   ]
  }
 ],
 "metadata": {
  "kernelspec": {
   "display_name": "Python 3 (ipykernel)",
   "language": "python",
   "name": "python3"
  },
  "language_info": {
   "codemirror_mode": {
    "name": "ipython",
    "version": 3
   },
   "file_extension": ".py",
   "mimetype": "text/x-python",
   "name": "python",
   "nbconvert_exporter": "python",
   "pygments_lexer": "ipython3",
   "version": "3.8.10"
  }
 },
 "nbformat": 4,
 "nbformat_minor": 5
}
